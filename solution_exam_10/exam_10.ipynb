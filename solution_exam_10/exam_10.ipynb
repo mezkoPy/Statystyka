{
 "cells": [
  {
   "cell_type": "code",
   "execution_count": 1,
   "metadata": {},
   "outputs": [
    {
     "name": "stdout",
     "output_type": "stream",
     "text": [
      "0.13237802900152576\n",
      "0.018941896832738645\n",
      "[13, 29, 44, 12, 16, 42]\n",
      "Prawdopodobienstwo dwojki\n",
      "0.13252\n",
      "Prawdopodobienstwo trojki\n",
      "0.01747\n",
      "Prawdopodobienstwo dwojki\n",
      "0.13238\n",
      "Prawdopodobienstwo trojki\n",
      "0.01784\n"
     ]
    }
   ],
   "source": [
    "# Zadanie 1\n",
    "\n",
    "from scipy import special\n",
    "import random\n",
    "\n",
    "# prawdopodobienstwo wylosowania dwojki\n",
    "print(special.binom(6,2) * special.binom(43,4) / special.binom(49,6))\n",
    "# prawdopodobienstwo wylosowania trojki\n",
    "print(special.binom(6,3) * special.binom(44,3) / special.binom(49,6))\n",
    "\n",
    "# zwycieskie liczby\n",
    "winning_numbers = random.sample(range(1,50), k=6)\n",
    "print(winning_numbers)\n",
    "\n",
    "# symulacja losowań\n",
    "successes2 = 0\n",
    "successes3 = 0\n",
    "for i in range(100000):\n",
    "    numbers = random.sample(range(1,50), k=6)\n",
    "    draw_successes = 0\n",
    "    for num in numbers:\n",
    "        if num in winning_numbers:\n",
    "            draw_successes += 1\n",
    "            \n",
    "    if draw_successes == 2:\n",
    "        successes2 += 1\n",
    "    if draw_successes == 3:\n",
    "        successes3 += 1\n",
    "        \n",
    "print(\"Prawdopodobienstwo dwojki\")\n",
    "print( successes2 / 100000 )\n",
    "print(\"Prawdopodobienstwo trojki\")\n",
    "print( successes3 / 100000)\n",
    "\n",
    "\n",
    "successes2 = 0\n",
    "successes3 = 0\n",
    "for i in range(100000):\n",
    "    numbers = random.sample(range(1,50), k=6)\n",
    "    num_matches = len(set(numbers).intersection(set(winning_numbers)))\n",
    "            \n",
    "    if num_matches == 2:\n",
    "        successes2 += 1\n",
    "    if num_matches == 3:\n",
    "        successes3 += 1\n",
    "        \n",
    "print(\"Prawdopodobienstwo dwojki\")\n",
    "print( successes2 / 100000 )\n",
    "print(\"Prawdopodobienstwo trojki\")\n",
    "print( successes3 / 100000 )"
   ]
  },
  {
   "cell_type": "code",
   "execution_count": 2,
   "metadata": {},
   "outputs": [
    {
     "data": {
      "image/png": "[encoded data removed]",
      "text/plain": [
       "<Figure size 640x480 with 1 Axes>"
      ]
     },
     "metadata": {},
     "output_type": "display_data"
    }
   ],
   "source": [
    "# Zadanie 2\n",
    "\n",
    "import numpy as np\n",
    "import matplotlib.pyplot as plt\n",
    "\n",
    "X = np.random.exponential(1.5, size=10000)\n",
    "plt.hist(X, bins=40, edgecolor=\"black\", density=True)\n",
    "plt.title(\"Histogram rozkładu wykładniczego z parametrem 1.5\")\n",
    "plt.show()\n"
   ]
  },
  {
   "cell_type": "code",
   "execution_count": 3,
   "metadata": {},
   "outputs": [
    {
     "name": "stdout",
     "output_type": "stream",
     "text": [
      "-1.0 0.0\n",
      "0.3413447460685429\n"
     ]
    }
   ],
   "source": [
    "# Zadanie 3\n",
    "\n",
    "from scipy.stats import norm\n",
    "\n",
    "mu = 30\n",
    "sigma = 10\n",
    "x1 = 20\n",
    "x2 = 30\n",
    "z1 = (x1 - mu) / sigma\n",
    "z2 = (x2 - mu) / sigma\n",
    "print(z1, z2)\n",
    "\n",
    "# prawdopodobieństwo \n",
    "P = norm.cdf(z2) - norm.cdf(z1)\n",
    "\n",
    "print(P)"
   ]
  },
  {
   "cell_type": "code",
   "execution_count": 4,
   "metadata": {},
   "outputs": [
    {
     "name": "stdout",
     "output_type": "stream",
     "text": [
      "39.81818181818182\n",
      "Przedzial ufnosci\n",
      "P1= 22.996590202721205\n",
      "P2= 56.63977343364243\n"
     ]
    }
   ],
   "source": [
    "# Zadanie 4a\n",
    "\n",
    "import numpy as np\n",
    "from scipy.stats import t\n",
    "\n",
    "n = 11\n",
    "X = [19, 36, 37, 13, 79, 23, 32, 6, 51, 70, 72]\n",
    "alpha = 0.05\n",
    "\n",
    "# obliczenie sredniej probki\n",
    "X_mean = np.mean(X)\n",
    "print(X_mean)\n",
    "\n",
    "# obliczenie odchylenia standardowego\n",
    "s = np.std(X, ddof=1)\n",
    "\n",
    "# wartosc krytyczna rozkładu t-studenta\n",
    "t_alpha = t.ppf(1-alpha/2, n-1)\n",
    "\n",
    "print(\"Przedzial ufnosci\")\n",
    "print(\"P1=\", X_mean - t_alpha * s / np.sqrt(n))\n",
    "print(\"P2=\", X_mean + t_alpha * s / np.sqrt(n))\n"
   ]
  },
  {
   "cell_type": "code",
   "execution_count": 5,
   "metadata": {},
   "outputs": [
    {
     "name": "stdout",
     "output_type": "stream",
     "text": [
      "Minimalna liczebnosc\n",
      "632.0\n"
     ]
    }
   ],
   "source": [
    "# Zadanie 4b\n",
    "n = 80\n",
    "p0 = 0.7\n",
    "alpha = 0.1\n",
    "d = 0.03\n",
    "\n",
    "# wartosc krytyczna rozkładu normalnego\n",
    "from scipy.stats import norm\n",
    "u_alpha = norm.ppf(1 - alpha/2)\n",
    "\n",
    "# obliczenie minimalnej liczby prob\n",
    "print(\"Minimalna liczebnosc\")\n",
    "print(np.ceil((u_alpha**2) * p0 * (1-p0) / (d**2) ))"
   ]
  },
  {
   "cell_type": "code",
   "execution_count": 6,
   "metadata": {},
   "outputs": [
    {
     "name": "stdout",
     "output_type": "stream",
     "text": [
      "U= -0.5833333333333334\n",
      "Zbiór krytyczny: (-inf, --1.2815515655446004)\n",
      "Na poziomie istotności 0.1 można odrzucić H0\n"
     ]
    }
   ],
   "source": [
    "# Zadanie 5\n",
    "\n",
    "mu_0 = 1000\n",
    "sigma = 120\n",
    "X_mean = 993\n",
    "alpha = 0.1\n",
    "n = 100\n",
    "\n",
    "# wartość statystyki testowej U\n",
    "U = (X_mean - mu_0) / sigma * np.sqrt(n)\n",
    "print(\"U=\", U)\n",
    "\n",
    "# zbiór krytyczny\n",
    "from scipy.stats import norm\n",
    "u_alpha = norm.ppf(alpha)\n",
    "print(f\"Zbiór krytyczny: (-inf, -{u_alpha})\")\n",
    "\n",
    "# decyzja\n",
    "if U < -u_alpha:\n",
    "    print(f\"Na poziomie istotności {alpha} można odrzucić H0\")\n",
    "else:\n",
    "    print(f\"Na poziomie istotności {alpha} nie ma podstaw do odrzucenia H0\")"
   ]
  }
 ],
 "metadata": {
  "kernelspec": {
   "display_name": "Python 3",
   "language": "python",
   "name": "python3"
  },
  "language_info": {
   "codemirror_mode": {
    "name": "ipython",
    "version": 3
   },
   "file_extension": ".py",
   "mimetype": "text/x-python",
   "name": "python",
   "nbconvert_exporter": "python",
   "pygments_lexer": "ipython3",
   "version": "3.12.3"
  }
 },
 "nbformat": 4,
 "nbformat_minor": 2
}
