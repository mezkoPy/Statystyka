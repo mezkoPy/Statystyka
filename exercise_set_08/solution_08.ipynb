{
 "cells": [
  {
   "cell_type": "code",
   "execution_count": 56,
   "id": "46d1abc2-149a-4dc2-8851-51da293c1013",
   "metadata": {},
   "outputs": [
    {
     "name": "stdout",
     "output_type": "stream",
     "text": [
      "Przy tak niskich wartościach Z-score: -27.607881518711647, oraz P-value: 4.474466361187349e-168,\n",
      "hipoteza, że średnia waga wynosi 70kg przy poziomie istotności 0.04 jest błędna, a średnia waga jest dużo niższa \n",
      "Frakcja osób ważących co najmniej 65kg wynosi: 57.62195121951219%, a P-wartość: 0.0033646592825816463, co jest wartośćią mniejszą niż poziom istotności 0.01.\n",
      "Przy tych wynikach możemy stwierdzić, że ponad połowa osób waży co najmniej 65kg.\n"
     ]
    },
    {
     "name": "stderr",
     "output_type": "stream",
     "text": [
      "C:\\Users\\miesz\\AppData\\Local\\Temp\\ipykernel_5504\\2349850742.py:41: DeprecationWarning: 'binom_test' is deprecated in favour of 'binomtest' from version 1.7.0 and will be removed in Scipy 1.12.0.\n",
      "  p_value_frakcja = stats.binom_test(x=osoby_65kg_wzwyz, n=np.sum(osoby), p=0.5, alternative='greater')\n"
     ]
    }
   ],
   "source": [
    "# Zadanie 1\n",
    "\n",
    "import numpy as np\n",
    "from scipy import stats\n",
    "\n",
    "wagi = np.array([50, 60, 70, 80, 90])  # środki przedziałów\n",
    "osoby = np.array([42, 97, 149, 24, 16])\n",
    "\n",
    "# obliczenie średniej wagi\n",
    "srednia_waga = np.sum(wagi * osoby) / np.sum(osoby)\n",
    "\n",
    "srednia_waga\n",
    "\n",
    "# zakładamy, że wariancja w każdym przedziale wynosi (szerokość przedziału / 4)^2, gdzie szerokość przedziału = 10\n",
    "wariancja = (10 / 4) ** 2\n",
    "\n",
    "# ważona wariancji średniej\n",
    "wazona_wariancja = wariancja / np.sum(osoby)\n",
    "\n",
    "# odchylenie standardowe\n",
    "odchylenie_standardowe = np.sqrt(wazona_wariancja)\n",
    "\n",
    "# Z-score dla testu hipotezy, która mówi o średniej wadze wynoszącej 70kg\n",
    "z_score = (srednia_waga - 70) / odchylenie_standardowe\n",
    "\n",
    "# P-wartość dla testu jednostronnego (hipoteza alternatywna: średnia < 70)\n",
    "p_value = stats.norm.cdf(z_score)\n",
    "\n",
    "z_score, p_value\n",
    "print(f'''Przy tak niskich wartościach Z-score: {z_score}, oraz P-value: {p_value},\n",
    "hipoteza, że średnia waga wynosi 70kg przy poziomie istotności 0.04 jest błędna, a średnia waga jest dużo niższa ''')\n",
    "\n",
    "# suma osób z przedziałów od 65 kg wzwyż\n",
    "osoby_65kg_wzwyz = np.sum(osoby[2:])\n",
    "\n",
    "# obliczenie frakcji osób ważących co najmniej 65 kg\n",
    "frakcja = osoby_65kg_wzwyz / np.sum(osoby)\n",
    "frakcja = frakcja * 100\n",
    "# test hipotezy, że ponad połowa osób waży co najmniej 65 kg\n",
    "# używamy testu binominalnego\n",
    "p_value_frakcja = stats.binom_test(x=osoby_65kg_wzwyz, n=np.sum(osoby), p=0.5, alternative='greater')\n",
    "\n",
    "frakcja, p_value_frakcja\n",
    "print(f'''Frakcja osób ważących co najmniej 65kg wynosi: {frakcja}%, a P-wartość: {p_value_frakcja}, co jest wartośćią mniejszą niż poziom istotności 0.01.\n",
    "Przy tych wynikach możemy stwierdzić, że ponad połowa osób waży co najmniej 65kg.''')"
   ]
  },
  {
   "cell_type": "code",
   "execution_count": 60,
   "id": "873b04de-5538-4790-9dfe-4cc121bf50b1",
   "metadata": {
    "tags": []
   },
   "outputs": [
    {
     "name": "stdout",
     "output_type": "stream",
     "text": [
      "Poziom istotności wynosi: 0.01, a wartość P: 0.18893175394805956 co oznacza, że nie ma wystarczających\n",
      "dowodów statystycznych, aby odrzucić hipotezę mowiącą, że średnie wysokości w obu bankach są jednakowe,\n",
      "a także można stwierdzić, że nie ma istotnych różnic w średnich wysokościach lokat pomiędzy dwoma bankami na poziomie istotności 0.01\n"
     ]
    }
   ],
   "source": [
    "# Zadanie 2\n",
    "\n",
    "import numpy as np\n",
    "from scipy import stats\n",
    "\n",
    "bank_a = np.array([10, 11, 7, 6, 5, 8, 8, 9, 7, 12])\n",
    "bank_b = np.array([12, 11, 9, 8, 7, 13, 6, 15])\n",
    "\n",
    "# przeprowadzenie dwupróbkowego testu t dla niezależnych prób\n",
    "t_stat, p_value = stats.ttest_ind(bank_a, bank_b, equal_var=False)\n",
    "\n",
    "t_stat, p_value\n",
    "print(f'''Poziom istotności wynosi: 0.01, a wartość P: {p_value} co oznacza, że nie ma wystarczających\n",
    "dowodów statystycznych, aby odrzucić hipotezę mowiącą, że średnie wysokości w obu bankach są jednakowe,\n",
    "a także można stwierdzić, że nie ma istotnych różnic w średnich wysokościach lokat pomiędzy dwoma bankami na poziomie istotności 0.01''')"
   ]
  },
  {
   "cell_type": "code",
   "execution_count": 62,
   "id": "9abdbc37-d033-408f-912a-76a2948c3035",
   "metadata": {
    "tags": []
   },
   "outputs": [
    {
     "name": "stdout",
     "output_type": "stream",
     "text": [
      "P-wartość wynosi: 0.5276901535711184, co oznacza że jest znacznie wyższa niż ustalony poziom istotności 0.05.\n",
      "Na podstawie tych danych, możemy stwierdzić, że nie ma istotynch statystycznie różnic w regularności wyników obu zawodników.\n"
     ]
    }
   ],
   "source": [
    "# Zadanie 3\n",
    "\n",
    "import numpy as np\n",
    "from scipy.stats import levene\n",
    "\n",
    "skoki_pierwszy = np.array([7.48, 7.88, 8.00, 7.15, 7.26, 7.33, 7.71, 7.18])\n",
    "skoki_drugi = np.array([7.62, 7.83, 8.03, 7.97, 7.17, 8.08, 7.92, 7.93, 7.58])\n",
    "\n",
    "# przeprowadzenie testu Levene'a na równość wariancji\n",
    "stat, p_value = levene(skoki_pierwszy, skoki_drugi)\n",
    "\n",
    "print(f'''P-wartość wynosi: {p_value}, co oznacza że jest znacznie wyższa niż ustalony poziom istotności 0.05.\n",
    "Na podstawie tych danych, możemy stwierdzić, że nie ma istotynch statystycznie różnic w regularności wyników obu zawodników.''')"
   ]
  }
 ],
 "metadata": {
  "kernelspec": {
   "display_name": "Python 3 (ipykernel)",
   "language": "python",
   "name": "python3"
  },
  "language_info": {
   "codemirror_mode": {
    "name": "ipython",
    "version": 3
   },
   "file_extension": ".py",
   "mimetype": "text/x-python",
   "name": "python",
   "nbconvert_exporter": "python",
   "pygments_lexer": "ipython3",
   "version": "3.11.7"
  }
 },
 "nbformat": 4,
 "nbformat_minor": 5
}
